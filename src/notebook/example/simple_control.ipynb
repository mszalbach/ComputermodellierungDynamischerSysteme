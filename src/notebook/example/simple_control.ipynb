{
 "cells": [
  {
   "cell_type": "code",
   "execution_count": 8,
   "metadata": {
    "collapsed": false
   },
   "outputs": [
    {
     "data": {
      "text/plain": [
       "[<matplotlib.lines.Line2D at 0x7fe5e03fc7f0>,\n",
       " <matplotlib.lines.Line2D at 0x7fe5e03fc9b0>,\n",
       " <matplotlib.lines.Line2D at 0x7fe5e0402358>,\n",
       " <matplotlib.lines.Line2D at 0x7fe5e0402b70>]"
      ]
     },
     "execution_count": 8,
     "metadata": {},
     "output_type": "execute_result"
    },
    {
     "data": {
      "image/png": "[encoded data removed]",
      "text/plain": [
       "<matplotlib.figure.Figure at 0x7fe5e058ee80>"
      ]
     },
     "metadata": {},
     "output_type": "display_data"
    }
   ],
   "source": [
    "%matplotlib inline\n",
    "# test-response.py - Unit tests for system response functions\n",
    "# RMM, 11 Sep 2010\n",
    "\n",
    "from matplotlib.pyplot import * # Grab MATLAB plotting functions\n",
    "from control.matlab import *    # Load the controls systems library\n",
    "from scipy import arange        # function to create range of numbers\n",
    "\n",
    "# Create several systems for testing\n",
    "sys1 = tf([1], [1, 2, 1])\n",
    "sys2 = tf([1], [1, 1, 0])\n",
    "\n",
    "# Generate step responses\n",
    "(y1a, T1a) = step(sys1)\n",
    "(y1b, T1b) = step(sys1, T = arange(0, 10, 0.1))\n",
    "(y1c, T1c) = step(sys1, X0 = [0, 0])\n",
    "(y2a, T2a) = step(sys2, T = arange(0, 10, 0.1))\n",
    "\n",
    "plot(T1a, y1a, T1b, y1b, T1c, y1c, T2a, y2a)"
   ]
  },
  {
   "cell_type": "code",
   "execution_count": null,
   "metadata": {
    "collapsed": true
   },
   "outputs": [],
   "source": []
  }
 ],
 "metadata": {
  "kernelspec": {
   "display_name": "Python 3",
   "language": "python",
   "name": "python3"
  },
  "language_info": {
   "codemirror_mode": {
    "name": "ipython",
    "version": 3
   },
   "file_extension": ".py",
   "mimetype": "text/x-python",
   "name": "python",
   "nbconvert_exporter": "python",
   "pygments_lexer": "ipython3",
   "version": "3.5.1"
  }
 },
 "nbformat": 4,
 "nbformat_minor": 0
}
