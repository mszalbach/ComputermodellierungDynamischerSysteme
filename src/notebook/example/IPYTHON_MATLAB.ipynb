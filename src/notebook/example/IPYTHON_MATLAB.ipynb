{
 "cells": [
  {
   "cell_type": "code",
   "execution_count": 12,
   "metadata": {
    "collapsed": false
   },
   "outputs": [],
   "source": [
    "%matplotlib inline\n",
    "from control.matlab import *    # MATLAB-like functions\n",
    "\n",
    "# System matrices\n",
    "A1 = [[0, 1.], [-4, -1]]\n",
    "B1 = [[0], [1.]]\n",
    "C1 = [[1., 0]]\n",
    "sys1ss = ss(A1, B1, C1, 0)\n",
    "sys1tf = ss2tf(sys1ss)\n",
    "\n",
    "sys2tf = tf([1, 0.5], [1, 5]);\n",
    "sys2ss = tf2ss(sys2tf);\n",
    "\n",
    "# Series composition\n",
    "series1 = sys1ss + sys2ss;"
   ]
  },
  {
   "cell_type": "code",
   "execution_count": 13,
   "metadata": {
    "collapsed": false
   },
   "outputs": [
    {
     "name": "stdout",
     "output_type": "stream",
     "text": [
      "A = [[ 0.  1.  0.]\n",
      " [-4. -1.  0.]\n",
      " [ 0.  0. -5.]]\n",
      "\n",
      "B = [[ 0. ]\n",
      " [ 1. ]\n",
      " [-4.5]]\n",
      "\n",
      "C = [[ 1.  0.  1.]]\n",
      "\n",
      "D = [[ 1.]]\n",
      "\n"
     ]
    }
   ],
   "source": [
    "print(series1)\n",
    "series1tf = ss2tf(series1)"
   ]
  },
  {
   "cell_type": "code",
   "execution_count": 14,
   "metadata": {
    "collapsed": false
   },
   "outputs": [
    {
     "name": "stdout",
     "output_type": "stream",
     "text": [
      "\n",
      "s^3 + 1.5 s^2 + 5.5 s + 7\n",
      "-------------------------\n",
      "  s^3 + 6 s^2 + 9 s + 20\n",
      "\n"
     ]
    }
   ],
   "source": [
    "print(series1tf);"
   ]
  },
  {
   "cell_type": "code",
   "execution_count": 15,
   "metadata": {
    "collapsed": false
   },
   "outputs": [
    {
     "data": {
      "image/png": "[encoded data removed]",
      "text/plain": [
       "<matplotlib.figure.Figure at 0x7f4746c9df28>"
      ]
     },
     "metadata": {},
     "output_type": "display_data"
    }
   ],
   "source": [
    "bode(series1tf);"
   ]
  },
  {
   "cell_type": "code",
   "execution_count": null,
   "metadata": {
    "collapsed": true
   },
   "outputs": [],
   "source": []
  }
 ],
 "metadata": {
  "kernelspec": {
   "display_name": "Python 3",
   "language": "python",
   "name": "python3"
  },
  "language_info": {
   "codemirror_mode": {
    "name": "ipython",
    "version": 3
   },
   "file_extension": ".py",
   "mimetype": "text/x-python",
   "name": "python",
   "nbconvert_exporter": "python",
   "pygments_lexer": "ipython3",
   "version": "3.4.3"
  }
 },
 "nbformat": 4,
 "nbformat_minor": 0
}
