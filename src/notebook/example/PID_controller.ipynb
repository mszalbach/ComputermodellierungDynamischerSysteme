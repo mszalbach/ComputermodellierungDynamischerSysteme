{
 "cells": [
  {
   "cell_type": "markdown",
   "metadata": {
    "slideshow": {
     "slide_type": "slide"
    }
   },
   "source": [
    "# Python in control theory"
   ]
  },
  {
   "cell_type": "markdown",
   "metadata": {
    "slideshow": {
     "slide_type": "slide"
    }
   },
   "source": [
    "Python is also a very useful tool in many control applications. SciPy is a collection of mathematical algorithms and convenience functions built on the Numpy extension of Python. Scipy is also a python package of algorithms and mathematical tools for technical computing. It contains modules for optimization, linear algebra, integration, interpolation, special functions, FFT (Fast Fourier Transform), signal and image processing, ODE solvers and other tasks common in science and engineering. With SciPy it is possible to solve some control problems and make simulations like in Matlab. SciPy has wide collection of built-in functions that can be used to solve numerical problems. Here are some examples how control problems can ne solved using Python and SciPy. \n",
    "\n",
    "Python Control Systems Library includes python-control package as a set of Python classes and functions that implement common operations for the analysis and design of feedback control systems. It also has a MATLAB compatibility package (control.matlab) that provides many of the common functions corresponding to commands available in the MATLAB Control Systems Toolbox."
   ]
  },
  {
   "cell_type": "markdown",
   "metadata": {
    "slideshow": {
     "slide_type": "fragment"
    }
   },
   "source": [
    "## Basic SciPy functions"
   ]
  },
  {
   "cell_type": "markdown",
   "metadata": {
    "slideshow": {
     "slide_type": "fragment"
    }
   },
   "source": [
    "### Linspace"
   ]
  },
  {
   "cell_type": "markdown",
   "metadata": {
    "slideshow": {
     "slide_type": "slide"
    }
   },
   "source": [
    "Linspace is easy way to create vectors. It returns evenly spaced numbers over a specified interval. "
   ]
  },
  {
   "cell_type": "code",
   "execution_count": 1,
   "metadata": {
    "collapsed": false,
    "slideshow": {
     "slide_type": "slide"
    }
   },
   "outputs": [
    {
     "data": {
      "text/plain": [
       "array([  0.2       ,  11.17777778,  22.15555556,  33.13333333,\n",
       "        44.11111111,  55.08888889,  66.06666667,  77.04444444,\n",
       "        88.02222222,  99.        ])"
      ]
     },
     "execution_count": 1,
     "metadata": {},
     "output_type": "execute_result"
    }
   ],
   "source": [
    "from scipy import linspace\n",
    "linspace(0.2, 99, 10)"
   ]
  },
  {
   "cell_type": "markdown",
   "metadata": {
    "slideshow": {
     "slide_type": "slide"
    }
   },
   "source": [
    "### Odeint"
   ]
  },
  {
   "cell_type": "markdown",
   "metadata": {
    "slideshow": {
     "slide_type": "slide"
    }
   },
   "source": [
    "Odeint is function that can be used to integrate a system of ordinary differential equations. Basic parametres are odeint(func, y0, t). Func is the function where the derivative of $y=sin(x)^{y}$ at $t_0$ is computed, $y_0$ is initial condition on $y$ and $t$ is a sequence of time points for which to solve for $y$ where the initial value point should be the first element of this sequence. Here is an example of simple first degree system.\n",
    "\n",
    "We have a first degree transfer function where time constant $\\tau$ is 2. Then we will simulate step response of that system. Problem presented in Simulink:"
   ]
  },
  {
   "cell_type": "markdown",
   "metadata": {
    "slideshow": {
     "slide_type": "slide"
    }
   },
   "source": [
    "<center> <img src=\"http://i.imgur.com/TBOqHJH.png\" width=50%> </center>  "
   ]
  },
  {
   "cell_type": "markdown",
   "metadata": {
    "slideshow": {
     "slide_type": "slide"
    }
   },
   "source": [
    "Same problem solved with Python:"
   ]
  },
  {
   "cell_type": "code",
   "execution_count": 2,
   "metadata": {
    "collapsed": false,
    "scrolled": true,
    "slideshow": {
     "slide_type": "slide"
    }
   },
   "outputs": [
    {
     "data": {
      "image/png": "[encoded data removed]",
      "text/plain": [
       "<matplotlib.figure.Figure at 0x7f1c4072aa58>"
      ]
     },
     "metadata": {},
     "output_type": "display_data"
    }
   ],
   "source": [
    "from scipy.integrate import odeint\n",
    "from matplotlib.pyplot import figure, plot, grid, show, subplot, xlabel, ylabel\n",
    "# to show graphs inline in some IPython Notebooks \n",
    "%matplotlib inline\n",
    "# parameters of simulation\n",
    "t = linspace(0,40,201) # simulation time 20 s\n",
    "u = 1\n",
    "\n",
    "# system presented as an function\n",
    "def plant(y,t):\n",
    "    tau = 10\n",
    "    dydt = (1.0/tau)*(u-y)\n",
    "    return dydt\n",
    "    \n",
    "# simulation using odeint    \n",
    "y = odeint(plant,0,t)\n",
    "\n",
    "#plotting\n",
    "figure()\n",
    "subplot(111)\n",
    "plot(t,y,'b')\n",
    "xlabel('Zeit / sec'), ylabel('u')\n",
    "grid()\n",
    "show()"
   ]
  },
  {
   "cell_type": "markdown",
   "metadata": {
    "slideshow": {
     "slide_type": "slide"
    }
   },
   "source": [
    "### Step response of transfer function"
   ]
  },
  {
   "cell_type": "markdown",
   "metadata": {
    "slideshow": {
     "slide_type": "slide"
    }
   },
   "source": [
    "Scipy can be used to plot the frequency response in python. First the numerator an denominator of the transfer function must be defined. In this case num is $1$ and in python it is written as [1]. The den is $3s^2 + 2s + 1$ and in python its written as [3,2,1]. The gain of the response must also be defined. The frequency response can also be defined by using the zeros and poles of the transfer function. Then the command s1=signal.lti(zeros,poles,gain) would be used."
   ]
  },
  {
   "cell_type": "code",
   "execution_count": 3,
   "metadata": {
    "collapsed": false,
    "slideshow": {
     "slide_type": "slide"
    }
   },
   "outputs": [
    {
     "data": {
      "text/plain": [
       "[<matplotlib.lines.Line2D at 0x7f1c2aea1668>]"
      ]
     },
     "execution_count": 3,
     "metadata": {},
     "output_type": "execute_result"
    },
    {
     "data": {
      "image/png": "[encoded data removed]",
      "text/plain": [
       "<matplotlib.figure.Figure at 0x7f1c3815ddd8>"
      ]
     },
     "metadata": {},
     "output_type": "display_data"
    }
   ],
   "source": [
    "%matplotlib inline\n",
    "\n",
    "from scipy import *\n",
    "from scipy import signal\n",
    "from numpy import *\n",
    "from scipy.integrate import *\n",
    "from matplotlib.pyplot import *\n",
    "from time import sleep\n",
    "from IPython.display import display, clear_output\n",
    "#transfer funktion H(s)=(1/2s+1)\n",
    "fig = figure()\n",
    "ax = fig.gca()\n",
    "num=[1]\n",
    "den=[3,2,1]\n",
    "s1=signal.lti(num,den)\n",
    "T,yout=s1.step()\n",
    "ax.grid()\n",
    "ax.plot(T,yout, \"r\")"
   ]
  },
  {
   "cell_type": "markdown",
   "metadata": {
    "slideshow": {
     "slide_type": "slide"
    }
   },
   "source": [
    "## Python control library"
   ]
  },
  {
   "cell_type": "markdown",
   "metadata": {
    "slideshow": {
     "slide_type": "slide"
    }
   },
   "source": [
    "The python-control package is a set of python classes and functions that implement common operations for the analysis and design of feedback control systems. A MATLAB compatibility package (control.matlab) is available that provides many of the common functions corresponding to commands available in the MATLAB Control Systems Toolbox. Here are some examples how we can use use the package when designing control systems."
   ]
  },
  {
   "cell_type": "markdown",
   "metadata": {
    "slideshow": {
     "slide_type": "slide"
    }
   },
   "source": [
    "### Methods of making LTI system"
   ]
  },
  {
   "cell_type": "markdown",
   "metadata": {
    "slideshow": {
     "slide_type": "slide"
    }
   },
   "source": [
    "There are two basic forms how system can be presented if we want to use control library. We can use create state-space (SS) or transfer function (TF) model. Both are quite simple to create. Here is the state-space model we will want to create: "
   ]
  },
  {
   "cell_type": "markdown",
   "metadata": {
    "slideshow": {
     "slide_type": "slide"
    }
   },
   "source": [
    "<center>$\\small\n",
    "\\begin{matrix} \n",
    "\\left \\{\\begin{matrix}\n",
    "\\dot{\\textbf{x}}&=\\textbf{Ax}+\\textbf{Bu} & \n",
    "\\\\\n",
    "y&=\\textbf{Cx}\n",
    "\\end{matrix}  \\right.\n",
    "&\n",
    "\\textbf{A}=\\begin{bmatrix}\n",
    " -1&1 \\\\ \n",
    " -1&0 \n",
    "\\end{bmatrix},\n",
    "\\textbf{B}=\\begin{bmatrix} 1\\\\0\\end{bmatrix},\n",
    "\\textbf{C}=\\begin{bmatrix} 1&0\\end{bmatrix},\n",
    "\\textbf{x}=\\begin{bmatrix}x_1 \\\\x_2 \\end{bmatrix}\n",
    "\\end{matrix}  $ </center>"
   ]
  },
  {
   "cell_type": "code",
   "execution_count": 17,
   "metadata": {
    "collapsed": false,
    "slideshow": {
     "slide_type": "slide"
    }
   },
   "outputs": [],
   "source": [
    "from control import *\n",
    "# matrices\n",
    "A = [[-1,1], [-1,0]]\n",
    "B = [[1], [0]]\n",
    "C = [1, 0]\n",
    "D = [0]\n",
    "\n",
    "# creating the system\n",
    "ss1 = ss(A, B, C, D)"
   ]
  },
  {
   "cell_type": "markdown",
   "metadata": {
    "slideshow": {
     "slide_type": "slide"
    }
   },
   "source": [
    "Transfer function:"
   ]
  },
  {
   "cell_type": "markdown",
   "metadata": {
    "slideshow": {
     "slide_type": "slide"
    }
   },
   "source": [
    " <center> $G(s)=\\frac{Y(s)}{U(s)}=\\large\\frac{s+1}{s^2 +10s+5}$ </center> "
   ]
  },
  {
   "cell_type": "code",
   "execution_count": 5,
   "metadata": {
    "collapsed": false,
    "slideshow": {
     "slide_type": "slide"
    }
   },
   "outputs": [],
   "source": [
    "# numerator\n",
    "num = [1, 1]\n",
    "# denominator\n",
    "den = [1, 2, 5]\n",
    "\n",
    "# creating the system\n",
    "tf1 = tf(num, den)\n"
   ]
  },
  {
   "cell_type": "markdown",
   "metadata": {
    "slideshow": {
     "slide_type": "slide"
    }
   },
   "source": [
    "We can also transform a state space system to a transfer function or vice versa"
   ]
  },
  {
   "cell_type": "code",
   "execution_count": 6,
   "metadata": {
    "collapsed": false,
    "scrolled": true,
    "slideshow": {
     "slide_type": "slide"
    }
   },
   "outputs": [],
   "source": [
    "# state space to transfer function\n",
    "tf2 = ss2tf(ss1)\n",
    "\n",
    "# transfer function to state space\n",
    "ss2 = tf2ss(tf1)"
   ]
  },
  {
   "cell_type": "markdown",
   "metadata": {
    "slideshow": {
     "slide_type": "slide"
    }
   },
   "source": [
    "### Feedback loop and block diagram algebra"
   ]
  },
  {
   "cell_type": "markdown",
   "metadata": {
    "slideshow": {
     "slide_type": "slide"
    }
   },
   "source": [
    "Different systems can be easily combined by python-control package. Here $G(s)$ is the system and $H(s)$ controller. If those systems are known, total transfer function $G_T(s)$ can be formed easily:"
   ]
  },
  {
   "cell_type": "markdown",
   "metadata": {
    "slideshow": {
     "slide_type": "fragment"
    }
   },
   "source": [
    "<center> <img src=\"http://i.imgur.com/lXMazdv.png\" width=30%> </center>  "
   ]
  },
  {
   "cell_type": "code",
   "execution_count": 7,
   "metadata": {
    "collapsed": false,
    "slideshow": {
     "slide_type": "slide"
    }
   },
   "outputs": [],
   "source": [
    "# primary plant\n",
    "G = tf1\n",
    "# feedback plant \n",
    "H = tf2\n",
    "# total plant\n",
    "GT = feedback(G, H, sign=-1) # sign is -1 if feedback is negative"
   ]
  },
  {
   "cell_type": "markdown",
   "metadata": {
    "slideshow": {
     "slide_type": "fragment"
    }
   },
   "source": [
    "Negative of the system and systems in series or parallel"
   ]
  },
  {
   "cell_type": "code",
   "execution_count": 8,
   "metadata": {
    "collapsed": false,
    "slideshow": {
     "slide_type": "slide"
    }
   },
   "outputs": [],
   "source": [
    "# negative\n",
    "Gneg = negate(G)\n",
    "\n",
    "# systems in seris. Same as G*H\n",
    "GHser = series(G, H)\n",
    "\n",
    "# systems in parallel. Same as G+H\n",
    "GHpar = parallel(G, H)"
   ]
  },
  {
   "cell_type": "markdown",
   "metadata": {
    "slideshow": {
     "slide_type": "slide"
    }
   },
   "source": [
    "### System analysis"
   ]
  },
  {
   "cell_type": "markdown",
   "metadata": {
    "slideshow": {
     "slide_type": "fragment"
    }
   },
   "source": [
    "There are several function in control library that can be used to analyze properties of the system."
   ]
  },
  {
   "cell_type": "code",
   "execution_count": 9,
   "metadata": {
    "collapsed": false,
    "slideshow": {
     "slide_type": "fragment"
    }
   },
   "outputs": [
    {
     "data": {
      "text/plain": [
       "matrix([[ 0.2]])"
      ]
     },
     "execution_count": 9,
     "metadata": {},
     "output_type": "execute_result"
    }
   ],
   "source": [
    "# Compute the gain of the system in steady state. \n",
    "dcgain(G)"
   ]
  },
  {
   "cell_type": "code",
   "execution_count": 10,
   "metadata": {
    "collapsed": false,
    "slideshow": {
     "slide_type": "fragment"
    }
   },
   "outputs": [
    {
     "data": {
      "text/plain": [
       "(0.19579415815639589+0j)"
      ]
     },
     "execution_count": 10,
     "metadata": {},
     "output_type": "execute_result"
    }
   ],
   "source": [
    "from numpy import pi\n",
    "# Evaluate the transfer function of an LTI system at an angular frequency.\n",
    "omega = pi # angular frequency\n",
    "evalfr(G, omega)"
   ]
  },
  {
   "cell_type": "code",
   "execution_count": 11,
   "metadata": {
    "collapsed": false,
    "slideshow": {
     "slide_type": "fragment"
    }
   },
   "outputs": [
    {
     "data": {
      "text/plain": [
       "array([-1.+2.j, -1.-2.j])"
      ]
     },
     "execution_count": 11,
     "metadata": {},
     "output_type": "execute_result"
    }
   ],
   "source": [
    "# Compute system poles.\n",
    "pole(G)"
   ]
  },
  {
   "cell_type": "code",
   "execution_count": 12,
   "metadata": {
    "collapsed": false,
    "slideshow": {
     "slide_type": "fragment"
    }
   },
   "outputs": [
    {
     "data": {
      "text/plain": [
       "array([-1.])"
      ]
     },
     "execution_count": 12,
     "metadata": {},
     "output_type": "execute_result"
    }
   ],
   "source": [
    "# Compute system zeros.\n",
    "zero(G)   "
   ]
  },
  {
   "cell_type": "markdown",
   "metadata": {
    "slideshow": {
     "slide_type": "slide"
    }
   },
   "source": [
    "### Frequency Domain Plotting"
   ]
  },
  {
   "cell_type": "markdown",
   "metadata": {
    "slideshow": {
     "slide_type": "slide"
    }
   },
   "source": [
    "It is also easy to plot frequency domain, such as Bode plot or Nyquist plot."
   ]
  },
  {
   "cell_type": "code",
   "execution_count": 13,
   "metadata": {
    "collapsed": false,
    "slideshow": {
     "slide_type": "fragment"
    }
   },
   "outputs": [
    {
     "data": {
      "text/plain": [
       "'\\nReturns:\\nmag : array (list if len(syslist) > 1)\\n    magnitude\\nphase : array (list if len(syslist) > 1)\\n    phase\\nomega : array (list if len(syslist) > 1)\\n    frequency\\n'"
      ]
     },
     "execution_count": 13,
     "metadata": {},
     "output_type": "execute_result"
    },
    {
     "data": {
      "image/png": "[encoded data removed]",
      "text/plain": [
       "<matplotlib.figure.Figure at 0x7f1c380f4cf8>"
      ]
     },
     "metadata": {},
     "output_type": "display_data"
    }
   ],
   "source": [
    "# Bode plot\n",
    "# parameters\n",
    "linsys = G   # List of linear input/output systems (single system is OK)\n",
    "omega = None # Range of frequencies (list or bounds) in rad/sec\n",
    "dB = False   # If True, plot result in dB\n",
    "Hz = True    # If True, plot frequency in Hz (omega must be provided in rad/sec)\n",
    "deg = True   # If True, return phase in degrees (else radians)\n",
    "Plot = True  # If True, plot magnitude and phase\n",
    "\n",
    "bode_plot(linsys, omega, dB, Hz, deg, Plot)\n",
    "'''\n",
    "Returns:\n",
    "mag : array (list if len(syslist) > 1)\n",
    "    magnitude\n",
    "phase : array (list if len(syslist) > 1)\n",
    "    phase\n",
    "omega : array (list if len(syslist) > 1)\n",
    "    frequency\n",
    "'''"
   ]
  },
  {
   "cell_type": "code",
   "execution_count": 14,
   "metadata": {
    "collapsed": false,
    "scrolled": false,
    "slideshow": {
     "slide_type": "slide"
    }
   },
   "outputs": [
    {
     "data": {
      "text/plain": [
       "'\\nReturns:\\t\\nreal : array\\n    real part of the frequency response array\\nimag : array\\n    imaginary part of the frequency response array\\nfreq : array\\n    frequencies\\n'"
      ]
     },
     "execution_count": 14,
     "metadata": {},
     "output_type": "execute_result"
    },
    {
     "data": {
      "image/png": "[encoded data removed]",
      "text/plain": [
       "<matplotlib.figure.Figure at 0x7f1c2a64f048>"
      ]
     },
     "metadata": {},
     "output_type": "display_data"
    }
   ],
   "source": [
    "# Nyquist plot\n",
    "# parametres\n",
    "labelFreq = 0  # Label every nth frequency on the plot\n",
    "\n",
    "nyquist_plot(linsys, omega=None, Plot=True, color='b', labelFreq=0)\n",
    "\n",
    "'''\n",
    "Returns:\t\n",
    "real : array\n",
    "    real part of the frequency response array\n",
    "imag : array\n",
    "    imaginary part of the frequency response array\n",
    "freq : array\n",
    "    frequencies\n",
    "'''"
   ]
  },
  {
   "cell_type": "markdown",
   "metadata": {
    "slideshow": {
     "slide_type": "slide"
    }
   },
   "source": [
    "### Simulation of the systems in time domain"
   ]
  },
  {
   "cell_type": "markdown",
   "metadata": {
    "slideshow": {
     "slide_type": "fragment"
    }
   },
   "source": [
    "There are several functions that can be used to simulate the output of linear system, such as a step or impulse response. Here is an example of simulating the step response:"
   ]
  },
  {
   "cell_type": "code",
   "execution_count": 15,
   "metadata": {
    "collapsed": false,
    "slideshow": {
     "slide_type": "fragment"
    }
   },
   "outputs": [
    {
     "data": {
      "text/plain": [
       "[<matplotlib.lines.Line2D at 0x7f1c2a72ca58>]"
      ]
     },
     "execution_count": 15,
     "metadata": {},
     "output_type": "execute_result"
    },
    {
     "data": {
      "image/png": "[encoded data removed]",
      "text/plain": [
       "<matplotlib.figure.Figure at 0x7f1c2a74e390>"
      ]
     },
     "metadata": {},
     "output_type": "display_data"
    }
   ],
   "source": [
    "# Step response\n",
    "# Parametres\n",
    "sys = G           # LTI system to simulate\n",
    "T = None          # Time vector (argument is autocomputed if not given)\n",
    "x0 = 0.0          # Initial condition (default = 0)\n",
    "input = 0         # Index of the input that will be used in this simulation\n",
    "output = 0        # Index of the output that will be used in this simulation.\n",
    "transpose = False # If True, transpose all input and output arrays\n",
    "\n",
    "# Simulating and plotting the results\n",
    "T, yout = step_response(sys, T, x0, input, output, transpose)\n",
    "plot(T, yout)"
   ]
  }
 ],
 "metadata": {
  "celltoolbar": "Slideshow",
  "kernelspec": {
   "display_name": "Python 3",
   "language": "python",
   "name": "python3"
  },
  "language_info": {
   "codemirror_mode": {
    "name": "ipython",
    "version": 3
   },
   "file_extension": ".py",
   "mimetype": "text/x-python",
   "name": "python",
   "nbconvert_exporter": "python",
   "pygments_lexer": "ipython3",
   "version": "3.4.3"
  }
 },
 "nbformat": 4,
 "nbformat_minor": 0
}
