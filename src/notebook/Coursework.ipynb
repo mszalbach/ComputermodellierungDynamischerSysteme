{
 "cells": [
  {
   "cell_type": "markdown",
   "metadata": {},
   "source": [
    "# Simulation dynamischer Systeme"
   ]
  },
  {
   "cell_type": "markdown",
   "metadata": {},
   "source": [
    "## Imports \n",
    "Benötigte Imports und einstellen von matplotlib damit die Graphen im Notebook dargestellt werden."
   ]
  },
  {
   "cell_type": "code",
   "execution_count": 1,
   "metadata": {
    "collapsed": true
   },
   "outputs": [],
   "source": [
    "%matplotlib inline\n",
    "import numpy as np\n",
    "import matplotlib.pyplot as plt\n",
    "import control as cs\n",
    "import control.pzmap as pz"
   ]
  },
  {
   "cell_type": "markdown",
   "metadata": {},
   "source": [
    "## Aufgabenbeschreibung\n",
    "Es soll ein Glastubus-basierten Heizungssystem simuliert werden.  Dieses besteht aus einer Quarzglasröhre. Mit Hilfe einer Heizspirale wird Wärme von außen eingebracht.  Der Tubus verliert Wärme an seine Umgebung. Im eingeschwungenen Zustand ist die Wärmeabgabe und -zufuhr im Gleichgewicht.  Skizze 1 zeigt den Aufbau solch eines Systems.\n",
    "\n",
    "![alt text](https://github.com/adam-p/markdown-here/raw/master/src/common/images/icon48.png \"Logo Title Text 1\")"
   ]
  },
  {
   "cell_type": "markdown",
   "metadata": {},
   "source": [
    "## Mathematische Model\n",
    "Das System lässt sich wie folgt mathematisch beschreiben: \n",
    "$$ m \\cdot c_p {\\frac {dT}{dt}} = Q $$\n",
    "$$ Q = q_{in} - q_{out} $$\n",
    "$$ q_{in} = q $$\n",
    "$$ q_{out} = h_s \\cdot A_s(T(t)-T_a)$$\n",
    "\n",
    "$m$ ist die Masse des Glastubus, $c_p$ ist die Wärmekapzität des Glases, $A_s$ ist die Oberfläche des Glastubus, $h_s$ ist der Wärmeübergangskoeffizient zur Umgebung und $T_a$ ist the Raumtemperatur.\n",
    "Die Differentialgleichung zur Bestimmung des Temperaturverlaufs ist:\n",
    "$$gespeicherte Energie = zugeführte Energie - abgeführte Energie$$\n",
    "\n",
    "$$ m \\cdot c_p {\\frac {dT}{dt}} = q_{in} - h_s \\cdot A_s \\cdot (T(t)-T_a) $$\n",
    "\n",
    "Das System hat die Form :\n",
    "$$a \\cdot {\\dot{T}}(t) + b \\cdot T(t)=C$$\n",
    "\n",
    "Somit kann man die Differentialgleichung mit Hilfe der Partikulären Lösung lösen und erhält folgende Gleichung die den Temperaturverlauf des Glastubus beschreibt:\n",
    "$$T(t) = T_a  + {\\frac{q_{in}}{h_s \\cdot A_s}} \\cdot (1-e^{-t \\cdot \\frac{h_s \\cdot A_s}{m \\cdot c_p}})$$\n",
    "\n",
    "Nur wenn die Raumtemperatur 0° C ist kann man für dieses System die Übergangsfunktion bilden."
   ]
  },
  {
   "cell_type": "markdown",
   "metadata": {},
   "source": [
    "## System Konstanten\n",
    "Geben sind folgende Werte die den Glastubus beschreiben:"
   ]
  },
  {
   "cell_type": "code",
   "execution_count": 2,
   "metadata": {
    "collapsed": true
   },
   "outputs": [],
   "source": [
    "innen_radius=0.1 #m\n",
    "dicke=1 #cm\n",
    "aussen_radius=0.2 #m\n",
    "laenge=1 #m\n",
    "dichte=2500 #kg/m³\n",
    "cp=1078 # J/kg K\n",
    "hs=5 #W/m² K"
   ]
  },
  {
   "cell_type": "markdown",
   "metadata": {},
   "source": [
    "Zum Berechnen werden noch benötigt die Masse m und die Oberfläsche A des Glastubus:"
   ]
  },
  {
   "cell_type": "code",
   "execution_count": 3,
   "metadata": {
    "collapsed": true
   },
   "outputs": [],
   "source": [
    "#TODO berechnen\n",
    "m=5 #kg\n",
    "As=10 #m²"
   ]
  },
  {
   "cell_type": "markdown",
   "metadata": {},
   "source": [
    "## Modelfunktion\n",
    "Die Funktion heater(*) berechnet die Temperatur T zu einem Zeitpunkt t mit dem im vorherigen Kapitel gebenen Konstanten für den Glastubus."
   ]
  },
  {
   "cell_type": "code",
   "execution_count": 4,
   "metadata": {
    "collapsed": true
   },
   "outputs": [],
   "source": [
    "def heater():\n",
    "    print(\"Hallo\")"
   ]
  },
  {
   "cell_type": "markdown",
   "metadata": {},
   "source": [
    "## Reaktion des Systems auf verschiedene Eingangssignale"
   ]
  },
  {
   "cell_type": "markdown",
   "metadata": {},
   "source": [
    "### Sinus\n",
    "u = 10 sin(2πf t), f = 1 mHz, t=0-1000 s, dt=0.5 s"
   ]
  },
  {
   "cell_type": "markdown",
   "metadata": {},
   "source": [
    "### Sprungfunktion\n",
    "u= 1 kW to u= 5 kW at t=2000 s for t=0-10000 s, dt=5s"
   ]
  },
  {
   "cell_type": "markdown",
   "metadata": {},
   "source": [
    "### Konstantes Signal\n",
    "t u = 5 kW und zusätzlichem Rauschen (random noise) im Bereich von ±0.2 kW für t=0-1000 s, dt=0.5s"
   ]
  },
  {
   "cell_type": "markdown",
   "metadata": {},
   "source": [
    "## Bewertung der Ergebnisse"
   ]
  }
 ],
 "metadata": {
  "kernelspec": {
   "display_name": "Python 3",
   "language": "python",
   "name": "python3"
  },
  "language_info": {
   "codemirror_mode": {
    "name": "ipython",
    "version": 3
   },
   "file_extension": ".py",
   "mimetype": "text/x-python",
   "name": "python",
   "nbconvert_exporter": "python",
   "pygments_lexer": "ipython3",
   "version": "3.4.3"
  }
 },
 "nbformat": 4,
 "nbformat_minor": 0
}
